{
 "cells": [
  {
   "cell_type": "code",
   "execution_count": 1,
   "metadata": {},
   "outputs": [],
   "source": [
    "from pprint import pprint\n",
    "# import pandas as pd #import pandas\n",
    "# import numpy as numpy #import numpy\n",
    "# from sklearn.utils import shuffle # to shuffle the data \n",
    "# import random # import random\n",
    "# import sklearn # import sklearn\n",
    "# import nltk # import nltk\n",
    "# from nltk.corpus import stopwords #import stop words\n",
    "# import re # import regular expression\n",
    "# from nltk.tokenize import word_tokenize # import word_tokenize\n",
    "# import matplotlib\n",
    "# import matplotlib.pyplot as plt #import matplotlib.pyplot \n",
    "# from sklearn.feature_extraction.text import TfidfVectorizer #  import TF-idf vectorizer\n",
    "\n",
    "# %matplotlib inline"
   ]
  },
  {
   "cell_type": "code",
   "execution_count": 2,
   "metadata": {},
   "outputs": [
    {
     "name": "stdout",
     "output_type": "stream",
     "text": [
      "[nltk_data] Downloading package stopwords to\n",
      "[nltk_data]     /Users/sam.bhandari/nltk_data...\n",
      "[nltk_data]   Package stopwords is already up-to-date!\n",
      "[nltk_data] Downloading package punkt to\n",
      "[nltk_data]     /Users/sam.bhandari/nltk_data...\n",
      "[nltk_data]   Package punkt is already up-to-date!\n"
     ]
    },
    {
     "data": {
      "text/html": [
       "<div>\n",
       "<style scoped>\n",
       "    .dataframe tbody tr th:only-of-type {\n",
       "        vertical-align: middle;\n",
       "    }\n",
       "\n",
       "    .dataframe tbody tr th {\n",
       "        vertical-align: top;\n",
       "    }\n",
       "\n",
       "    .dataframe thead th {\n",
       "        text-align: right;\n",
       "    }\n",
       "</style>\n",
       "<table border=\"1\" class=\"dataframe\">\n",
       "  <thead>\n",
       "    <tr style=\"text-align: right;\">\n",
       "      <th></th>\n",
       "      <th>sentiment</th>\n",
       "      <th>id</th>\n",
       "      <th>timestamp</th>\n",
       "      <th>query</th>\n",
       "      <th>user</th>\n",
       "      <th>tweet</th>\n",
       "    </tr>\n",
       "  </thead>\n",
       "  <tbody>\n",
       "    <tr>\n",
       "      <th>685610</th>\n",
       "      <td>0</td>\n",
       "      <td>2250819430</td>\n",
       "      <td>Sat Jun 20 01:34:59 PDT 2009</td>\n",
       "      <td>NO_QUERY</td>\n",
       "      <td>The_Khristos</td>\n",
       "      <td>@MrDAprano, honnestly I'm not going to miss th...</td>\n",
       "    </tr>\n",
       "    <tr>\n",
       "      <th>446784</th>\n",
       "      <td>0</td>\n",
       "      <td>2068515884</td>\n",
       "      <td>Sun Jun 07 14:12:53 PDT 2009</td>\n",
       "      <td>NO_QUERY</td>\n",
       "      <td>teale</td>\n",
       "      <td>Tired after spending a restless night with Tie...</td>\n",
       "    </tr>\n",
       "    <tr>\n",
       "      <th>1231978</th>\n",
       "      <td>4</td>\n",
       "      <td>1991871464</td>\n",
       "      <td>Mon Jun 01 07:48:38 PDT 2009</td>\n",
       "      <td>NO_QUERY</td>\n",
       "      <td>jenjeahaly</td>\n",
       "      <td>@bradgallaway Yup popiscle  Not sure if you've...</td>\n",
       "    </tr>\n",
       "    <tr>\n",
       "      <th>1496263</th>\n",
       "      <td>4</td>\n",
       "      <td>2070090087</td>\n",
       "      <td>Sun Jun 07 17:04:40 PDT 2009</td>\n",
       "      <td>NO_QUERY</td>\n",
       "      <td>fashinator1985</td>\n",
       "      <td>@candydiaz LOL save a lil arse for me candy!</td>\n",
       "    </tr>\n",
       "    <tr>\n",
       "      <th>944257</th>\n",
       "      <td>4</td>\n",
       "      <td>1795457800</td>\n",
       "      <td>Thu May 14 07:48:29 PDT 2009</td>\n",
       "      <td>NO_QUERY</td>\n",
       "      <td>krrley</td>\n",
       "      <td>@StephanieFizer No problem!! Your stuff is so ...</td>\n",
       "    </tr>\n",
       "  </tbody>\n",
       "</table>\n",
       "</div>"
      ],
      "text/plain": [
       "         sentiment          id                     timestamp     query  \\\n",
       "685610           0  2250819430  Sat Jun 20 01:34:59 PDT 2009  NO_QUERY   \n",
       "446784           0  2068515884  Sun Jun 07 14:12:53 PDT 2009  NO_QUERY   \n",
       "1231978          4  1991871464  Mon Jun 01 07:48:38 PDT 2009  NO_QUERY   \n",
       "1496263          4  2070090087  Sun Jun 07 17:04:40 PDT 2009  NO_QUERY   \n",
       "944257           4  1795457800  Thu May 14 07:48:29 PDT 2009  NO_QUERY   \n",
       "\n",
       "                   user                                              tweet  \n",
       "685610     The_Khristos  @MrDAprano, honnestly I'm not going to miss th...  \n",
       "446784            teale  Tired after spending a restless night with Tie...  \n",
       "1231978      jenjeahaly  @bradgallaway Yup popiscle  Not sure if you've...  \n",
       "1496263  fashinator1985      @candydiaz LOL save a lil arse for me candy!   \n",
       "944257           krrley  @StephanieFizer No problem!! Your stuff is so ...  "
      ]
     },
     "execution_count": 2,
     "metadata": {},
     "output_type": "execute_result"
    }
   ],
   "source": [
    "from sklearn.utils import shuffle\n",
    "from utils import loadRawTrainData\n",
    "\n",
    "dataFrame = loadRawTrainData()\n",
    "dataFrame = shuffle(dataFrame, random_state=10)\n",
    "dataFrame.head()"
   ]
  },
  {
   "cell_type": "code",
   "execution_count": 3,
   "metadata": {},
   "outputs": [
    {
     "name": "stdout",
     "output_type": "stream",
     "text": [
      "Removing columns - id, timestamp, query, and user\n"
     ]
    },
    {
     "data": {
      "text/html": [
       "<div>\n",
       "<style scoped>\n",
       "    .dataframe tbody tr th:only-of-type {\n",
       "        vertical-align: middle;\n",
       "    }\n",
       "\n",
       "    .dataframe tbody tr th {\n",
       "        vertical-align: top;\n",
       "    }\n",
       "\n",
       "    .dataframe thead th {\n",
       "        text-align: right;\n",
       "    }\n",
       "</style>\n",
       "<table border=\"1\" class=\"dataframe\">\n",
       "  <thead>\n",
       "    <tr style=\"text-align: right;\">\n",
       "      <th></th>\n",
       "      <th>sentiment</th>\n",
       "      <th>tweet</th>\n",
       "    </tr>\n",
       "  </thead>\n",
       "  <tbody>\n",
       "    <tr>\n",
       "      <th>685610</th>\n",
       "      <td>0</td>\n",
       "      <td>@MrDAprano, honnestly I'm not going to miss th...</td>\n",
       "    </tr>\n",
       "    <tr>\n",
       "      <th>446784</th>\n",
       "      <td>0</td>\n",
       "      <td>Tired after spending a restless night with Tie...</td>\n",
       "    </tr>\n",
       "    <tr>\n",
       "      <th>1231978</th>\n",
       "      <td>4</td>\n",
       "      <td>@bradgallaway Yup popiscle  Not sure if you've...</td>\n",
       "    </tr>\n",
       "    <tr>\n",
       "      <th>1496263</th>\n",
       "      <td>4</td>\n",
       "      <td>@candydiaz LOL save a lil arse for me candy!</td>\n",
       "    </tr>\n",
       "    <tr>\n",
       "      <th>944257</th>\n",
       "      <td>4</td>\n",
       "      <td>@StephanieFizer No problem!! Your stuff is so ...</td>\n",
       "    </tr>\n",
       "  </tbody>\n",
       "</table>\n",
       "</div>"
      ],
      "text/plain": [
       "         sentiment                                              tweet\n",
       "685610           0  @MrDAprano, honnestly I'm not going to miss th...\n",
       "446784           0  Tired after spending a restless night with Tie...\n",
       "1231978          4  @bradgallaway Yup popiscle  Not sure if you've...\n",
       "1496263          4      @candydiaz LOL save a lil arse for me candy! \n",
       "944257           4  @StephanieFizer No problem!! Your stuff is so ..."
      ]
     },
     "execution_count": 3,
     "metadata": {},
     "output_type": "execute_result"
    }
   ],
   "source": [
    "from utils import removeUnusedColumns\n",
    "\n",
    "dataFrame = removeUnusedColumns(dataFrame)\n",
    "dataFrame.head()"
   ]
  },
  {
   "cell_type": "code",
   "execution_count": 4,
   "metadata": {},
   "outputs": [
    {
     "data": {
      "text/plain": [
       "4    800000\n",
       "0    800000\n",
       "Name: sentiment, dtype: int64"
      ]
     },
     "execution_count": 4,
     "metadata": {},
     "output_type": "execute_result"
    }
   ],
   "source": [
    "dataFrame.sentiment.value_counts()"
   ]
  },
  {
   "cell_type": "code",
   "execution_count": 5,
   "metadata": {},
   "outputs": [
    {
     "data": {
      "text/plain": [
       "685610     4\n",
       "446784     0\n",
       "1231978    4\n",
       "1496263    4\n",
       "944257     4\n",
       "dtype: int64"
      ]
     },
     "execution_count": 5,
     "metadata": {},
     "output_type": "execute_result"
    }
   ],
   "source": [
    "from baseline import predict\n",
    "\n",
    "baselineTrainPrediction = predict(dataFrame)\n",
    "baselineTrainPrediction.head()"
   ]
  },
  {
   "cell_type": "code",
   "execution_count": 6,
   "metadata": {},
   "outputs": [
    {
     "name": "stdout",
     "output_type": "stream",
     "text": [
      "array([[132985, 667015],\n",
      "       [ 49349, 750651]])\n"
     ]
    }
   ],
   "source": [
    "from baseline import getConfusionMatrix\n",
    "baselineConfusionMatrix = getConfusionMatrix(dataFrame, baselineTrainPrediction)\n",
    "pprint(baselineConfusionMatrix)"
   ]
  },
  {
   "cell_type": "code",
   "execution_count": 7,
   "metadata": {},
   "outputs": [
    {
     "name": "stdout",
     "output_type": "stream",
     "text": [
      "Accuracy of Baseline model for training data is: 0.552273\n"
     ]
    }
   ],
   "source": [
    "from baseline import getAccuracy\n",
    "baselineTrainAccuracy = getAccuracy(dataFrame, baselineTrainPrediction)\n",
    "print('Accuracy of Baseline model for training data is: %f' %(baselineTrainAccuracy))"
   ]
  },
  {
   "cell_type": "code",
   "execution_count": 8,
   "metadata": {},
   "outputs": [
    {
     "name": "stdout",
     "output_type": "stream",
     "text": [
      "[nltk_data] Downloading package stopwords to\n",
      "[nltk_data]     /Users/sam.bhandari/nltk_data...\n",
      "[nltk_data]   Package stopwords is already up-to-date!\n",
      "[nltk_data] Downloading package punkt to\n",
      "[nltk_data]     /Users/sam.bhandari/nltk_data...\n",
      "[nltk_data]   Package punkt is already up-to-date!\n",
      "Removing columns - id, timestamp, query, and user\n"
     ]
    },
    {
     "data": {
      "text/html": [
       "<div>\n",
       "<style scoped>\n",
       "    .dataframe tbody tr th:only-of-type {\n",
       "        vertical-align: middle;\n",
       "    }\n",
       "\n",
       "    .dataframe tbody tr th {\n",
       "        vertical-align: top;\n",
       "    }\n",
       "\n",
       "    .dataframe thead th {\n",
       "        text-align: right;\n",
       "    }\n",
       "</style>\n",
       "<table border=\"1\" class=\"dataframe\">\n",
       "  <thead>\n",
       "    <tr style=\"text-align: right;\">\n",
       "      <th></th>\n",
       "      <th>sentiment</th>\n",
       "      <th>tweet</th>\n",
       "    </tr>\n",
       "  </thead>\n",
       "  <tbody>\n",
       "    <tr>\n",
       "      <th>0</th>\n",
       "      <td>4</td>\n",
       "      <td>@stellargirl I loooooooovvvvvveee my Kindle2. ...</td>\n",
       "    </tr>\n",
       "    <tr>\n",
       "      <th>1</th>\n",
       "      <td>4</td>\n",
       "      <td>Reading my kindle2...  Love it... Lee childs i...</td>\n",
       "    </tr>\n",
       "    <tr>\n",
       "      <th>2</th>\n",
       "      <td>4</td>\n",
       "      <td>Ok, first assesment of the #kindle2 ...it fuck...</td>\n",
       "    </tr>\n",
       "    <tr>\n",
       "      <th>3</th>\n",
       "      <td>4</td>\n",
       "      <td>@kenburbary You'll love your Kindle2. I've had...</td>\n",
       "    </tr>\n",
       "    <tr>\n",
       "      <th>4</th>\n",
       "      <td>4</td>\n",
       "      <td>@mikefish  Fair enough. But i have the Kindle2...</td>\n",
       "    </tr>\n",
       "  </tbody>\n",
       "</table>\n",
       "</div>"
      ],
      "text/plain": [
       "   sentiment                                              tweet\n",
       "0          4  @stellargirl I loooooooovvvvvveee my Kindle2. ...\n",
       "1          4  Reading my kindle2...  Love it... Lee childs i...\n",
       "2          4  Ok, first assesment of the #kindle2 ...it fuck...\n",
       "3          4  @kenburbary You'll love your Kindle2. I've had...\n",
       "4          4  @mikefish  Fair enough. But i have the Kindle2..."
      ]
     },
     "execution_count": 8,
     "metadata": {},
     "output_type": "execute_result"
    }
   ],
   "source": [
    "from utils import loadDataForTesting\n",
    "\n",
    "testDf = loadDataForTesting()\n",
    "testDf.head()"
   ]
  },
  {
   "cell_type": "code",
   "execution_count": 9,
   "metadata": {},
   "outputs": [
    {
     "data": {
      "text/plain": [
       "4    182\n",
       "0    177\n",
       "2    139\n",
       "Name: sentiment, dtype: int64"
      ]
     },
     "execution_count": 9,
     "metadata": {},
     "output_type": "execute_result"
    }
   ],
   "source": [
    "testDf.sentiment.value_counts()\n"
   ]
  },
  {
   "cell_type": "code",
   "execution_count": 10,
   "metadata": {},
   "outputs": [
    {
     "data": {
      "text/html": [
       "<div>\n",
       "<style scoped>\n",
       "    .dataframe tbody tr th:only-of-type {\n",
       "        vertical-align: middle;\n",
       "    }\n",
       "\n",
       "    .dataframe tbody tr th {\n",
       "        vertical-align: top;\n",
       "    }\n",
       "\n",
       "    .dataframe thead th {\n",
       "        text-align: right;\n",
       "    }\n",
       "</style>\n",
       "<table border=\"1\" class=\"dataframe\">\n",
       "  <thead>\n",
       "    <tr style=\"text-align: right;\">\n",
       "      <th></th>\n",
       "      <th>sentiment</th>\n",
       "      <th>tweet</th>\n",
       "    </tr>\n",
       "  </thead>\n",
       "  <tbody>\n",
       "    <tr>\n",
       "      <th>0</th>\n",
       "      <td>4</td>\n",
       "      <td>@stellargirl I loooooooovvvvvveee my Kindle2. ...</td>\n",
       "    </tr>\n",
       "    <tr>\n",
       "      <th>1</th>\n",
       "      <td>4</td>\n",
       "      <td>Reading my kindle2...  Love it... Lee childs i...</td>\n",
       "    </tr>\n",
       "    <tr>\n",
       "      <th>2</th>\n",
       "      <td>4</td>\n",
       "      <td>Ok, first assesment of the #kindle2 ...it fuck...</td>\n",
       "    </tr>\n",
       "    <tr>\n",
       "      <th>3</th>\n",
       "      <td>4</td>\n",
       "      <td>@kenburbary You'll love your Kindle2. I've had...</td>\n",
       "    </tr>\n",
       "    <tr>\n",
       "      <th>4</th>\n",
       "      <td>4</td>\n",
       "      <td>@mikefish  Fair enough. But i have the Kindle2...</td>\n",
       "    </tr>\n",
       "  </tbody>\n",
       "</table>\n",
       "</div>"
      ],
      "text/plain": [
       "   sentiment                                              tweet\n",
       "0          4  @stellargirl I loooooooovvvvvveee my Kindle2. ...\n",
       "1          4  Reading my kindle2...  Love it... Lee childs i...\n",
       "2          4  Ok, first assesment of the #kindle2 ...it fuck...\n",
       "3          4  @kenburbary You'll love your Kindle2. I've had...\n",
       "4          4  @mikefish  Fair enough. But i have the Kindle2..."
      ]
     },
     "execution_count": 10,
     "metadata": {},
     "output_type": "execute_result"
    }
   ],
   "source": [
    "neutralRemovedDf = testDf.drop(testDf[testDf.sentiment == 2].index)\n",
    "neutralRemovedDf.sentiment.value_counts()\n",
    "neutralRemovedDf.head()"
   ]
  },
  {
   "cell_type": "code",
   "execution_count": 11,
   "metadata": {},
   "outputs": [
    {
     "name": "stdout",
     "output_type": "stream",
     "text": [
      "Accuracy of Baseline model for test data is: 0.604457\n"
     ]
    }
   ],
   "source": [
    "baselineTestPrediction = predict(neutralRemovedDf)\n",
    "baselineTestAccuracy = getAccuracy(neutralRemovedDf, baselineTestPrediction)\n",
    "print('Accuracy of Baseline model for test data is: %f' %(baselineTestAccuracy))"
   ]
  },
  {
   "cell_type": "code",
   "execution_count": 13,
   "metadata": {},
   "outputs": [
    {
     "name": "stdout",
     "output_type": "stream",
     "text": [
      "naiveBayesTF test accuracy score:  0.821727 \n",
      "naiveBayesTFIDF test accuracy score:  0.821727 \n",
      "logitTF test accuracy score:  0.818942 \n",
      "logitTFIDF test accuracy score:  0.830084 \n",
      "svmTF test accuracy score:  0.816156 \n",
      "svmTFIDF test accuracy score:  0.827298 \n",
      "lstm test accuracy score:  0.816156 \n",
      "cnn test accuracy score:  0.818942 \n"
     ]
    }
   ],
   "source": [
    "from testModels import testAll\n",
    "from utils import preProcessWithTokens\n",
    "from gridSearch import getIntegerEncoder, getPaddedInputIntegerSequences, getEncodedClasses, IntegerEncoder\n",
    "from gridSearch import createLSTMModel, createCNNModel\n",
    "\n",
    "testAll(neutralRemovedDf)"
   ]
  },
  {
   "cell_type": "code",
   "execution_count": null,
   "metadata": {},
   "outputs": [],
   "source": []
  }
 ],
 "metadata": {
  "kernelspec": {
   "display_name": "Python 3",
   "language": "python",
   "name": "python3"
  },
  "language_info": {
   "codemirror_mode": {
    "name": "ipython",
    "version": 3
   },
   "file_extension": ".py",
   "mimetype": "text/x-python",
   "name": "python",
   "nbconvert_exporter": "python",
   "pygments_lexer": "ipython3",
   "version": "3.6.6"
  }
 },
 "nbformat": 4,
 "nbformat_minor": 2
}
