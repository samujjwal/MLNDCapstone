{
 "cells": [
  {
   "cell_type": "code",
   "execution_count": 1,
   "metadata": {},
   "outputs": [],
   "source": [
    "from pprint import pprint\n",
    "import pandas as pd \n",
    "import numpy as np \n",
    "import matplotlib\n",
    "import matplotlib.pyplot as plt\n",
    "\n",
    "%matplotlib inline"
   ]
  },
  {
   "cell_type": "code",
   "execution_count": 2,
   "metadata": {
    "scrolled": true
   },
   "outputs": [
    {
     "name": "stdout",
     "output_type": "stream",
     "text": [
      "[nltk_data] Downloading package stopwords to\n",
      "[nltk_data]     /Users/sam.bhandari/nltk_data...\n",
      "[nltk_data]   Package stopwords is already up-to-date!\n",
      "[nltk_data] Downloading package punkt to\n",
      "[nltk_data]     /Users/sam.bhandari/nltk_data...\n",
      "[nltk_data]   Package punkt is already up-to-date!\n"
     ]
    },
    {
     "data": {
      "text/html": [
       "<div>\n",
       "<style scoped>\n",
       "    .dataframe tbody tr th:only-of-type {\n",
       "        vertical-align: middle;\n",
       "    }\n",
       "\n",
       "    .dataframe tbody tr th {\n",
       "        vertical-align: top;\n",
       "    }\n",
       "\n",
       "    .dataframe thead th {\n",
       "        text-align: right;\n",
       "    }\n",
       "</style>\n",
       "<table border=\"1\" class=\"dataframe\">\n",
       "  <thead>\n",
       "    <tr style=\"text-align: right;\">\n",
       "      <th></th>\n",
       "      <th>sentiment</th>\n",
       "      <th>id</th>\n",
       "      <th>timestamp</th>\n",
       "      <th>query</th>\n",
       "      <th>user</th>\n",
       "      <th>tweet</th>\n",
       "    </tr>\n",
       "  </thead>\n",
       "  <tbody>\n",
       "    <tr>\n",
       "      <th>685610</th>\n",
       "      <td>0</td>\n",
       "      <td>2250819430</td>\n",
       "      <td>Sat Jun 20 01:34:59 PDT 2009</td>\n",
       "      <td>NO_QUERY</td>\n",
       "      <td>The_Khristos</td>\n",
       "      <td>@MrDAprano, honnestly I'm not going to miss th...</td>\n",
       "    </tr>\n",
       "    <tr>\n",
       "      <th>446784</th>\n",
       "      <td>0</td>\n",
       "      <td>2068515884</td>\n",
       "      <td>Sun Jun 07 14:12:53 PDT 2009</td>\n",
       "      <td>NO_QUERY</td>\n",
       "      <td>teale</td>\n",
       "      <td>Tired after spending a restless night with Tie...</td>\n",
       "    </tr>\n",
       "    <tr>\n",
       "      <th>1231978</th>\n",
       "      <td>4</td>\n",
       "      <td>1991871464</td>\n",
       "      <td>Mon Jun 01 07:48:38 PDT 2009</td>\n",
       "      <td>NO_QUERY</td>\n",
       "      <td>jenjeahaly</td>\n",
       "      <td>@bradgallaway Yup popiscle  Not sure if you've...</td>\n",
       "    </tr>\n",
       "    <tr>\n",
       "      <th>1496263</th>\n",
       "      <td>4</td>\n",
       "      <td>2070090087</td>\n",
       "      <td>Sun Jun 07 17:04:40 PDT 2009</td>\n",
       "      <td>NO_QUERY</td>\n",
       "      <td>fashinator1985</td>\n",
       "      <td>@candydiaz LOL save a lil arse for me candy!</td>\n",
       "    </tr>\n",
       "    <tr>\n",
       "      <th>944257</th>\n",
       "      <td>4</td>\n",
       "      <td>1795457800</td>\n",
       "      <td>Thu May 14 07:48:29 PDT 2009</td>\n",
       "      <td>NO_QUERY</td>\n",
       "      <td>krrley</td>\n",
       "      <td>@StephanieFizer No problem!! Your stuff is so ...</td>\n",
       "    </tr>\n",
       "  </tbody>\n",
       "</table>\n",
       "</div>"
      ],
      "text/plain": [
       "         sentiment          id                     timestamp     query  \\\n",
       "685610           0  2250819430  Sat Jun 20 01:34:59 PDT 2009  NO_QUERY   \n",
       "446784           0  2068515884  Sun Jun 07 14:12:53 PDT 2009  NO_QUERY   \n",
       "1231978          4  1991871464  Mon Jun 01 07:48:38 PDT 2009  NO_QUERY   \n",
       "1496263          4  2070090087  Sun Jun 07 17:04:40 PDT 2009  NO_QUERY   \n",
       "944257           4  1795457800  Thu May 14 07:48:29 PDT 2009  NO_QUERY   \n",
       "\n",
       "                   user                                              tweet  \n",
       "685610     The_Khristos  @MrDAprano, honnestly I'm not going to miss th...  \n",
       "446784            teale  Tired after spending a restless night with Tie...  \n",
       "1231978      jenjeahaly  @bradgallaway Yup popiscle  Not sure if you've...  \n",
       "1496263  fashinator1985      @candydiaz LOL save a lil arse for me candy!   \n",
       "944257           krrley  @StephanieFizer No problem!! Your stuff is so ...  "
      ]
     },
     "execution_count": 2,
     "metadata": {},
     "output_type": "execute_result"
    }
   ],
   "source": [
    "from sklearn.utils import shuffle\n",
    "from utils import loadRawTrainData\n",
    "\n",
    "dataFrame = loadRawTrainData()\n",
    "dataFrame = shuffle(dataFrame, random_state=10)\n",
    "dataFrame.head()"
   ]
  },
  {
   "cell_type": "code",
   "execution_count": 3,
   "metadata": {},
   "outputs": [
    {
     "name": "stdout",
     "output_type": "stream",
     "text": [
      "Removing columns - id, timestamp, query, and user\n"
     ]
    },
    {
     "data": {
      "text/html": [
       "<div>\n",
       "<style scoped>\n",
       "    .dataframe tbody tr th:only-of-type {\n",
       "        vertical-align: middle;\n",
       "    }\n",
       "\n",
       "    .dataframe tbody tr th {\n",
       "        vertical-align: top;\n",
       "    }\n",
       "\n",
       "    .dataframe thead th {\n",
       "        text-align: right;\n",
       "    }\n",
       "</style>\n",
       "<table border=\"1\" class=\"dataframe\">\n",
       "  <thead>\n",
       "    <tr style=\"text-align: right;\">\n",
       "      <th></th>\n",
       "      <th>sentiment</th>\n",
       "      <th>tweet</th>\n",
       "    </tr>\n",
       "  </thead>\n",
       "  <tbody>\n",
       "    <tr>\n",
       "      <th>685610</th>\n",
       "      <td>0</td>\n",
       "      <td>@MrDAprano, honnestly I'm not going to miss th...</td>\n",
       "    </tr>\n",
       "    <tr>\n",
       "      <th>446784</th>\n",
       "      <td>0</td>\n",
       "      <td>Tired after spending a restless night with Tie...</td>\n",
       "    </tr>\n",
       "    <tr>\n",
       "      <th>1231978</th>\n",
       "      <td>4</td>\n",
       "      <td>@bradgallaway Yup popiscle  Not sure if you've...</td>\n",
       "    </tr>\n",
       "    <tr>\n",
       "      <th>1496263</th>\n",
       "      <td>4</td>\n",
       "      <td>@candydiaz LOL save a lil arse for me candy!</td>\n",
       "    </tr>\n",
       "    <tr>\n",
       "      <th>944257</th>\n",
       "      <td>4</td>\n",
       "      <td>@StephanieFizer No problem!! Your stuff is so ...</td>\n",
       "    </tr>\n",
       "  </tbody>\n",
       "</table>\n",
       "</div>"
      ],
      "text/plain": [
       "         sentiment                                              tweet\n",
       "685610           0  @MrDAprano, honnestly I'm not going to miss th...\n",
       "446784           0  Tired after spending a restless night with Tie...\n",
       "1231978          4  @bradgallaway Yup popiscle  Not sure if you've...\n",
       "1496263          4      @candydiaz LOL save a lil arse for me candy! \n",
       "944257           4  @StephanieFizer No problem!! Your stuff is so ..."
      ]
     },
     "execution_count": 3,
     "metadata": {},
     "output_type": "execute_result"
    }
   ],
   "source": [
    "from utils import removeUnusedColumns\n",
    "\n",
    "dataFrame = removeUnusedColumns(dataFrame)\n",
    "dataFrame.head()"
   ]
  },
  {
   "cell_type": "code",
   "execution_count": 4,
   "metadata": {},
   "outputs": [
    {
     "data": {
      "text/plain": [
       "4    800000\n",
       "0    800000\n",
       "Name: sentiment, dtype: int64"
      ]
     },
     "execution_count": 4,
     "metadata": {},
     "output_type": "execute_result"
    }
   ],
   "source": [
    "dataFrame.sentiment.value_counts()"
   ]
  },
  {
   "cell_type": "code",
   "execution_count": 5,
   "metadata": {},
   "outputs": [
    {
     "name": "stdout",
     "output_type": "stream",
     "text": [
      "[nltk_data] Downloading package stopwords to\n",
      "[nltk_data]     /Users/sam.bhandari/nltk_data...\n",
      "[nltk_data]   Package stopwords is already up-to-date!\n",
      "[nltk_data] Downloading package punkt to\n",
      "[nltk_data]     /Users/sam.bhandari/nltk_data...\n",
      "[nltk_data]   Package punkt is already up-to-date!\n",
      "Removing columns - id, timestamp, query, and user\n"
     ]
    },
    {
     "data": {
      "text/html": [
       "<div>\n",
       "<style scoped>\n",
       "    .dataframe tbody tr th:only-of-type {\n",
       "        vertical-align: middle;\n",
       "    }\n",
       "\n",
       "    .dataframe tbody tr th {\n",
       "        vertical-align: top;\n",
       "    }\n",
       "\n",
       "    .dataframe thead th {\n",
       "        text-align: right;\n",
       "    }\n",
       "</style>\n",
       "<table border=\"1\" class=\"dataframe\">\n",
       "  <thead>\n",
       "    <tr style=\"text-align: right;\">\n",
       "      <th></th>\n",
       "      <th>sentiment</th>\n",
       "      <th>tweet</th>\n",
       "    </tr>\n",
       "  </thead>\n",
       "  <tbody>\n",
       "    <tr>\n",
       "      <th>0</th>\n",
       "      <td>4</td>\n",
       "      <td>@stellargirl I loooooooovvvvvveee my Kindle2. ...</td>\n",
       "    </tr>\n",
       "    <tr>\n",
       "      <th>1</th>\n",
       "      <td>4</td>\n",
       "      <td>Reading my kindle2...  Love it... Lee childs i...</td>\n",
       "    </tr>\n",
       "    <tr>\n",
       "      <th>2</th>\n",
       "      <td>4</td>\n",
       "      <td>Ok, first assesment of the #kindle2 ...it fuck...</td>\n",
       "    </tr>\n",
       "    <tr>\n",
       "      <th>3</th>\n",
       "      <td>4</td>\n",
       "      <td>@kenburbary You'll love your Kindle2. I've had...</td>\n",
       "    </tr>\n",
       "    <tr>\n",
       "      <th>4</th>\n",
       "      <td>4</td>\n",
       "      <td>@mikefish  Fair enough. But i have the Kindle2...</td>\n",
       "    </tr>\n",
       "  </tbody>\n",
       "</table>\n",
       "</div>"
      ],
      "text/plain": [
       "   sentiment                                              tweet\n",
       "0          4  @stellargirl I loooooooovvvvvveee my Kindle2. ...\n",
       "1          4  Reading my kindle2...  Love it... Lee childs i...\n",
       "2          4  Ok, first assesment of the #kindle2 ...it fuck...\n",
       "3          4  @kenburbary You'll love your Kindle2. I've had...\n",
       "4          4  @mikefish  Fair enough. But i have the Kindle2..."
      ]
     },
     "execution_count": 5,
     "metadata": {},
     "output_type": "execute_result"
    }
   ],
   "source": [
    "from utils import loadDataForTesting\n",
    "\n",
    "testDf = loadDataForTesting()\n",
    "testDf.head()"
   ]
  },
  {
   "cell_type": "code",
   "execution_count": 6,
   "metadata": {},
   "outputs": [
    {
     "data": {
      "text/plain": [
       "4    182\n",
       "0    177\n",
       "2    139\n",
       "Name: sentiment, dtype: int64"
      ]
     },
     "execution_count": 6,
     "metadata": {},
     "output_type": "execute_result"
    }
   ],
   "source": [
    "testDf.sentiment.value_counts()\n"
   ]
  },
  {
   "cell_type": "code",
   "execution_count": 8,
   "metadata": {},
   "outputs": [
    {
     "name": "stdout",
     "output_type": "stream",
     "text": [
      "4    182\n",
      "0    177\n",
      "Name: sentiment, dtype: int64\n"
     ]
    },
    {
     "data": {
      "text/html": [
       "<div>\n",
       "<style scoped>\n",
       "    .dataframe tbody tr th:only-of-type {\n",
       "        vertical-align: middle;\n",
       "    }\n",
       "\n",
       "    .dataframe tbody tr th {\n",
       "        vertical-align: top;\n",
       "    }\n",
       "\n",
       "    .dataframe thead th {\n",
       "        text-align: right;\n",
       "    }\n",
       "</style>\n",
       "<table border=\"1\" class=\"dataframe\">\n",
       "  <thead>\n",
       "    <tr style=\"text-align: right;\">\n",
       "      <th></th>\n",
       "      <th>sentiment</th>\n",
       "      <th>tweet</th>\n",
       "    </tr>\n",
       "  </thead>\n",
       "  <tbody>\n",
       "    <tr>\n",
       "      <th>0</th>\n",
       "      <td>4</td>\n",
       "      <td>@stellargirl I loooooooovvvvvveee my Kindle2. ...</td>\n",
       "    </tr>\n",
       "    <tr>\n",
       "      <th>1</th>\n",
       "      <td>4</td>\n",
       "      <td>Reading my kindle2...  Love it... Lee childs i...</td>\n",
       "    </tr>\n",
       "    <tr>\n",
       "      <th>2</th>\n",
       "      <td>4</td>\n",
       "      <td>Ok, first assesment of the #kindle2 ...it fuck...</td>\n",
       "    </tr>\n",
       "    <tr>\n",
       "      <th>3</th>\n",
       "      <td>4</td>\n",
       "      <td>@kenburbary You'll love your Kindle2. I've had...</td>\n",
       "    </tr>\n",
       "    <tr>\n",
       "      <th>4</th>\n",
       "      <td>4</td>\n",
       "      <td>@mikefish  Fair enough. But i have the Kindle2...</td>\n",
       "    </tr>\n",
       "  </tbody>\n",
       "</table>\n",
       "</div>"
      ],
      "text/plain": [
       "   sentiment                                              tweet\n",
       "0          4  @stellargirl I loooooooovvvvvveee my Kindle2. ...\n",
       "1          4  Reading my kindle2...  Love it... Lee childs i...\n",
       "2          4  Ok, first assesment of the #kindle2 ...it fuck...\n",
       "3          4  @kenburbary You'll love your Kindle2. I've had...\n",
       "4          4  @mikefish  Fair enough. But i have the Kindle2..."
      ]
     },
     "execution_count": 8,
     "metadata": {},
     "output_type": "execute_result"
    }
   ],
   "source": [
    "neutralRemovedDf = testDf.drop(testDf[testDf.sentiment == 2].index)\n",
    "print(neutralRemovedDf.sentiment.value_counts())\n",
    "neutralRemovedDf.head()"
   ]
  },
  {
   "cell_type": "code",
   "execution_count": 9,
   "metadata": {},
   "outputs": [],
   "source": [
    "from sklearn.feature_extraction.text import CountVectorizer\n",
    "vectorizer = CountVectorizer()\n",
    "vectorizer.fit(dataFrame['tweet'])\n",
    "transformedTrain = vectorizer.transform(dataFrame['tweet'])\n",
    "transformedTest = vectorizer.transform(neutralRemovedDf['tweet'])"
   ]
  },
  {
   "cell_type": "code",
   "execution_count": 72,
   "metadata": {},
   "outputs": [
    {
     "name": "stdout",
     "output_type": "stream",
     "text": [
      "(1600000, 684358)\n",
      "31\n",
      "1\n",
      "(359, 684358)\n",
      "26\n",
      "2\n"
     ]
    },
    {
     "data": {
      "image/png": "[encoded data removed]",
      "text/plain": [
       "<Figure size 432x288 with 1 Axes>"
      ]
     },
     "metadata": {
      "needs_background": "light"
     },
     "output_type": "display_data"
    }
   ],
   "source": [
    "print (transformedTrain.shape)\n",
    "wordCountTrainArr = np.diff(transformedTrain.indptr)\n",
    "print (max(wordCountTrainArr))\n",
    "print (min(wordCountTrainArr))\n",
    "\n",
    "print (transformedTest.shape)\n",
    "wordCountTestArr = np.diff(transformedTest.indptr)\n",
    "print (max(wordCountTestArr))\n",
    "print (min(wordCountTestArr))\n",
    "\n",
    "plt.boxplot([wordCountTrainArr, wordCountTestArr], labels=['Train', 'Test'])\n",
    "plt.ylabel('Word Length')\n",
    "plt.savefig('wordcountsBoxplot.png')"
   ]
  },
  {
   "cell_type": "code",
   "execution_count": 11,
   "metadata": {},
   "outputs": [
    {
     "data": {
      "text/plain": [
       "685610     4\n",
       "446784     0\n",
       "1231978    4\n",
       "1496263    4\n",
       "944257     4\n",
       "dtype: int64"
      ]
     },
     "execution_count": 11,
     "metadata": {},
     "output_type": "execute_result"
    }
   ],
   "source": [
    "from baseline import predict\n",
    "\n",
    "baselineTrainPrediction = predict(dataFrame)\n",
    "baselineTrainPrediction.head()"
   ]
  },
  {
   "cell_type": "code",
   "execution_count": 12,
   "metadata": {},
   "outputs": [
    {
     "name": "stdout",
     "output_type": "stream",
     "text": [
      "array([[132985, 667015],\n",
      "       [ 49349, 750651]])\n"
     ]
    }
   ],
   "source": [
    "from baseline import getConfusionMatrix\n",
    "baselineConfusionMatrix = getConfusionMatrix(dataFrame, baselineTrainPrediction)\n",
    "pprint(baselineConfusionMatrix)"
   ]
  },
  {
   "cell_type": "code",
   "execution_count": 13,
   "metadata": {},
   "outputs": [
    {
     "name": "stdout",
     "output_type": "stream",
     "text": [
      "Accuracy of Baseline model for training data is: 0.552273\n"
     ]
    }
   ],
   "source": [
    "from baseline import getAccuracy\n",
    "baselineTrainAccuracy = getAccuracy(dataFrame, baselineTrainPrediction)\n",
    "print('Accuracy of Baseline model for training data is: %f' %(baselineTrainAccuracy))"
   ]
  },
  {
   "cell_type": "code",
   "execution_count": 14,
   "metadata": {},
   "outputs": [
    {
     "name": "stdout",
     "output_type": "stream",
     "text": [
      "Accuracy of Baseline model for test data is: 0.604457\n"
     ]
    }
   ],
   "source": [
    "baselineTestPrediction = predict(neutralRemovedDf)\n",
    "baselineTestAccuracy = getAccuracy(neutralRemovedDf, baselineTestPrediction)\n",
    "print('Accuracy of Baseline model for test data is: %f' %(baselineTestAccuracy))"
   ]
  },
  {
   "cell_type": "code",
   "execution_count": 16,
   "metadata": {},
   "outputs": [
    {
     "name": "stdout",
     "output_type": "stream",
     "text": [
      "_________________________________________________________________\n",
      "Layer (type)                 Output Shape              Param #   \n",
      "=================================================================\n",
      "embedding_2 (Embedding)      (None, 34, 16)            800000    \n",
      "_________________________________________________________________\n",
      "lstm_3 (LSTM)                (None, 34, 100)           46800     \n",
      "_________________________________________________________________\n",
      "lstm_4 (LSTM)                (None, 100)               80400     \n",
      "_________________________________________________________________\n",
      "dense_2 (Dense)              (None, 1)                 101       \n",
      "=================================================================\n",
      "Total params: 927,301\n",
      "Trainable params: 927,301\n",
      "Non-trainable params: 0\n",
      "_________________________________________________________________\n",
      "None\n"
     ]
    }
   ],
   "source": [
    "from gridSearch import createLSTMModel, createCNNModel\n",
    "lstmModel = createLSTMModel(50000, 34)\n",
    "print(lstmModel.summary())\n"
   ]
  },
  {
   "cell_type": "code",
   "execution_count": 17,
   "metadata": {},
   "outputs": [
    {
     "name": "stdout",
     "output_type": "stream",
     "text": [
      "_________________________________________________________________\n",
      "Layer (type)                 Output Shape              Param #   \n",
      "=================================================================\n",
      "embedding_3 (Embedding)      (None, 34, 16)            800000    \n",
      "_________________________________________________________________\n",
      "conv1d_1 (Conv1D)            (None, 34, 64)            3136      \n",
      "_________________________________________________________________\n",
      "conv1d_2 (Conv1D)            (None, 34, 32)            6176      \n",
      "_________________________________________________________________\n",
      "conv1d_3 (Conv1D)            (None, 34, 16)            1552      \n",
      "_________________________________________________________________\n",
      "flatten_1 (Flatten)          (None, 544)               0         \n",
      "_________________________________________________________________\n",
      "dropout_1 (Dropout)          (None, 544)               0         \n",
      "_________________________________________________________________\n",
      "dense_3 (Dense)              (None, 128)               69760     \n",
      "_________________________________________________________________\n",
      "dropout_2 (Dropout)          (None, 128)               0         \n",
      "_________________________________________________________________\n",
      "dense_4 (Dense)              (None, 1)                 129       \n",
      "=================================================================\n",
      "Total params: 880,753\n",
      "Trainable params: 880,753\n",
      "Non-trainable params: 0\n",
      "_________________________________________________________________\n",
      "None\n"
     ]
    }
   ],
   "source": [
    "cnnModel = createCNNModel(50000, 34)\n",
    "print(cnnModel.summary())"
   ]
  },
  {
   "cell_type": "code",
   "execution_count": 18,
   "metadata": {},
   "outputs": [
    {
     "name": "stderr",
     "output_type": "stream",
     "text": [
      "/Users/sam.bhandari/anaconda3/lib/python3.6/site-packages/sklearn/utils/deprecation.py:125: FutureWarning: You are accessing a training score ('std_train_score'), which will not be available by default any more in 0.21. If you need training scores, please set return_train_score=True\n",
      "  warnings.warn(*warn_args, **warn_kwargs)\n",
      "/Users/sam.bhandari/anaconda3/lib/python3.6/site-packages/sklearn/utils/deprecation.py:125: FutureWarning: You are accessing a training score ('mean_train_score'), which will not be available by default any more in 0.21. If you need training scores, please set return_train_score=True\n",
      "  warnings.warn(*warn_args, **warn_kwargs)\n"
     ]
    },
    {
     "name": "stdout",
     "output_type": "stream",
     "text": [
      "naiveBayesTF test accuracy score:  0.821727 \n",
      "naiveBayesTFIDF test accuracy score:  0.821727 \n",
      "logitTF test accuracy score:  0.818942 \n",
      "logitTFIDF test accuracy score:  0.830084 \n",
      "svmTF test accuracy score:  0.816156 \n",
      "svmTFIDF test accuracy score:  0.827298 \n"
     ]
    },
    {
     "name": "stderr",
     "output_type": "stream",
     "text": [
      "/Users/sam.bhandari/anaconda3/lib/python3.6/site-packages/sklearn/preprocessing/label.py:273: DataConversionWarning: A column-vector y was passed when a 1d array was expected. Please change the shape of y to (n_samples, ), for example using ravel().\n",
      "  y = column_or_1d(y, warn=True)\n"
     ]
    },
    {
     "name": "stdout",
     "output_type": "stream",
     "text": [
      "lstm test accuracy score:  0.816156 \n",
      "cnn test accuracy score:  0.818942 \n"
     ]
    }
   ],
   "source": [
    "from testModels import testAll\n",
    "from utils import preProcessWithTokens\n",
    "from gridSearch import getIntegerEncoder, getPaddedInputIntegerSequences, getEncodedClasses, IntegerEncoder\n",
    "\n",
    "allPredictions = testAll(neutralRemovedDf)"
   ]
  },
  {
   "cell_type": "code",
   "execution_count": 85,
   "metadata": {},
   "outputs": [
    {
     "data": {
      "image/png": "[encoded data removed]",
      "text/plain": [
       "<Figure size 432x288 with 1 Axes>"
      ]
     },
     "metadata": {
      "needs_background": "light"
     },
     "output_type": "display_data"
    }
   ],
   "source": [
    "testScores = [0.821727, 0.821727, 0.818942, 0.830084, 0.816156, 0.827298, 0.816156, 0.818942]\n",
    "validationScores = [0.764217, 0.765830, 0.780695, 0.782027, 0.780621, 0.782117, 0.609803, 0.587616]\n",
    "\n",
    "ind = np.arange(8)    # the x locations for the groups\n",
    "yticks = np.arange(0, 1, 0.1)\n",
    "\n",
    "p1 = plt.plot(ind, testScores, color='#d62728')\n",
    "p2 = plt.plot(ind, validationScores)\n",
    "\n",
    "plt.ylabel('Scores')\n",
    "plt.xticks(ind, ('NB', 'NB-TFIDF', 'LR', 'LR-TFIDF', 'SVM', 'SVM-TFIDF', 'LSTM', 'CNN'))\n",
    "plt.yticks(yticks)\n",
    "plt.legend((p1[0], p2[0]), ('Test', 'Validation'))\n",
    "plt.savefig('images/validationAndTestScores.png')"
   ]
  },
  {
   "cell_type": "code",
   "execution_count": 90,
   "metadata": {},
   "outputs": [
    {
     "name": "stdout",
     "output_type": "stream",
     "text": [
      "sklearn version: 0.20.1\n",
      "matplotlib version: 3.0.2\n",
      "numpy version: 1.15.4\n",
      "pandas version: 0.23.4\n",
      "nltk version: 3.3\n",
      "keras version: 2.2.4\n"
     ]
    }
   ],
   "source": [
    "import sklearn\n",
    "import matplotlib\n",
    "import nltk\n",
    "import keras\n",
    "\n",
    "print('sklearn version: %s' %(sklearn.__version__))\n",
    "print('matplotlib version: %s' %(matplotlib.__version__))\n",
    "print('numpy version: %s' %(np.__version__))\n",
    "print('pandas version: %s' %(pd.__version__))\n",
    "print('nltk version: %s' %(nltk.__version__))\n",
    "print('keras version: %s' %(keras.__version__))"
   ]
  },
  {
   "cell_type": "code",
   "execution_count": null,
   "metadata": {},
   "outputs": [],
   "source": []
  }
 ],
 "metadata": {
  "kernelspec": {
   "display_name": "Python 3",
   "language": "python",
   "name": "python3"
  },
  "language_info": {
   "codemirror_mode": {
    "name": "ipython",
    "version": 3
   },
   "file_extension": ".py",
   "mimetype": "text/x-python",
   "name": "python",
   "nbconvert_exporter": "python",
   "pygments_lexer": "ipython3",
   "version": "3.6.6"
  }
 },
 "nbformat": 4,
 "nbformat_minor": 2
}
